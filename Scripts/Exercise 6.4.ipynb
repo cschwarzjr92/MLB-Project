{
 "cells": [
  {
   "cell_type": "markdown",
   "id": "e2ba4831-5e4d-4dc7-af5e-15a9e6e4f7f9",
   "metadata": {},
   "source": [
    "# This script contains:\n",
    "1. Import Libraries & Data\n",
    "2. Create scatterplots of key variables\n",
    "3. Hypotheses\n",
    "4. Data prep for regression analysis\n",
    "5. Regression Analysis of Game Time/Year\n",
    "6. Summary Statistics of Game Time/Year\n",
    "7. Compare actual & Predicted values of Game Time\n",
    "8. Analysis of Game Time/Year\n",
    "9. Data prep for Game Time and Attendance\n",
    "10. Regression Analysis of Game Time and Attendance\n",
    "11. Summary Stats of Game Time and Attendance\n",
    "12. Actual and Predicted Values of Attendance\n",
    "13. Analysis of Game Time & Attendance\n"
   ]
  },
  {
   "cell_type": "markdown",
   "id": "848e355f-1017-451b-829b-0d922767fc72",
   "metadata": {},
   "source": [
    "### Import Libraries and Data"
   ]
  },
  {
   "cell_type": "code",
   "execution_count": 12,
   "id": "a1710c08-1074-4af1-9322-6a7543a57285",
   "metadata": {
    "tags": []
   },
   "outputs": [],
   "source": [
    "#Import Libraries\n",
    "import pandas as pd\n",
    "import numpy as np\n",
    "import seaborn as sns\n",
    "import matplotlib\n",
    "import matplotlib.pyplot as plt\n",
    "import os\n",
    "import sklearn\n",
    "from sklearn.model_selection import train_test_split \n",
    "from sklearn.linear_model import LinearRegression\n",
    "from sklearn.metrics import mean_squared_error, r2_score"
   ]
  },
  {
   "cell_type": "code",
   "execution_count": 13,
   "id": "3200fc73-890f-4928-bda0-ee199a6c31b0",
   "metadata": {
    "tags": []
   },
   "outputs": [],
   "source": [
    "# Import main MLB dataframe\n",
    "mlb = pd.read_csv(r\"C:\\Users\\cschw\\OneDrive\\Desktop\\MLB Project\\Data Sets\\Main Data Set\\MLB One Tab 9-23 Update.csv\")"
   ]
  },
  {
   "cell_type": "code",
   "execution_count": 14,
   "id": "67b7299e-d69a-4a0b-9e51-e4f8057d68b7",
   "metadata": {
    "tags": []
   },
   "outputs": [
    {
     "data": {
      "text/html": [
       "<div>\n",
       "<style scoped>\n",
       "    .dataframe tbody tr th:only-of-type {\n",
       "        vertical-align: middle;\n",
       "    }\n",
       "\n",
       "    .dataframe tbody tr th {\n",
       "        vertical-align: top;\n",
       "    }\n",
       "\n",
       "    .dataframe thead th {\n",
       "        text-align: right;\n",
       "    }\n",
       "</style>\n",
       "<table border=\"1\" class=\"dataframe\">\n",
       "  <thead>\n",
       "    <tr style=\"text-align: right;\">\n",
       "      <th></th>\n",
       "      <th>Year</th>\n",
       "      <th>Team</th>\n",
       "      <th>City</th>\n",
       "      <th>State</th>\n",
       "      <th>W</th>\n",
       "      <th>L</th>\n",
       "      <th>W-L%</th>\n",
       "      <th>R</th>\n",
       "      <th>RA</th>\n",
       "      <th>Rdiff</th>\n",
       "      <th>...</th>\n",
       "      <th>Est. Payroll</th>\n",
       "      <th>Avg Game Time</th>\n",
       "      <th>Avg Game Time Min</th>\n",
       "      <th>League</th>\n",
       "      <th>Division</th>\n",
       "      <th>Region</th>\n",
       "      <th>All Star Rating</th>\n",
       "      <th>All Star Viewers</th>\n",
       "      <th>World Series Rating</th>\n",
       "      <th>World Series Viewers</th>\n",
       "    </tr>\n",
       "  </thead>\n",
       "  <tbody>\n",
       "    <tr>\n",
       "      <th>0</th>\n",
       "      <td>2024</td>\n",
       "      <td>Arizona Diamondbacks</td>\n",
       "      <td>Phoenix</td>\n",
       "      <td>Arizona</td>\n",
       "      <td>77</td>\n",
       "      <td>60</td>\n",
       "      <td>0.562</td>\n",
       "      <td>5.4</td>\n",
       "      <td>4.7</td>\n",
       "      <td>0.7</td>\n",
       "      <td>...</td>\n",
       "      <td>NaN</td>\n",
       "      <td>2:43</td>\n",
       "      <td>163</td>\n",
       "      <td>National</td>\n",
       "      <td>West</td>\n",
       "      <td>West</td>\n",
       "      <td>3.8</td>\n",
       "      <td>6123000.0</td>\n",
       "      <td>NaN</td>\n",
       "      <td>NaN</td>\n",
       "    </tr>\n",
       "    <tr>\n",
       "      <th>1</th>\n",
       "      <td>2024</td>\n",
       "      <td>Los Angeles Angels</td>\n",
       "      <td>Anaheim</td>\n",
       "      <td>California</td>\n",
       "      <td>57</td>\n",
       "      <td>80</td>\n",
       "      <td>0.416</td>\n",
       "      <td>3.9</td>\n",
       "      <td>4.8</td>\n",
       "      <td>-0.9</td>\n",
       "      <td>...</td>\n",
       "      <td>NaN</td>\n",
       "      <td>2:37</td>\n",
       "      <td>157</td>\n",
       "      <td>American</td>\n",
       "      <td>West</td>\n",
       "      <td>West</td>\n",
       "      <td>3.8</td>\n",
       "      <td>6123000.0</td>\n",
       "      <td>NaN</td>\n",
       "      <td>NaN</td>\n",
       "    </tr>\n",
       "    <tr>\n",
       "      <th>2</th>\n",
       "      <td>2024</td>\n",
       "      <td>Los Angeles Dodgers</td>\n",
       "      <td>Los Angeles</td>\n",
       "      <td>California</td>\n",
       "      <td>82</td>\n",
       "      <td>55</td>\n",
       "      <td>0.599</td>\n",
       "      <td>5.0</td>\n",
       "      <td>4.2</td>\n",
       "      <td>0.8</td>\n",
       "      <td>...</td>\n",
       "      <td>NaN</td>\n",
       "      <td>2:41</td>\n",
       "      <td>161</td>\n",
       "      <td>National</td>\n",
       "      <td>West</td>\n",
       "      <td>West</td>\n",
       "      <td>3.8</td>\n",
       "      <td>6123000.0</td>\n",
       "      <td>NaN</td>\n",
       "      <td>NaN</td>\n",
       "    </tr>\n",
       "    <tr>\n",
       "      <th>3</th>\n",
       "      <td>2024</td>\n",
       "      <td>Oakland Athletics</td>\n",
       "      <td>Oakland</td>\n",
       "      <td>California</td>\n",
       "      <td>59</td>\n",
       "      <td>78</td>\n",
       "      <td>0.431</td>\n",
       "      <td>4.1</td>\n",
       "      <td>4.6</td>\n",
       "      <td>-0.5</td>\n",
       "      <td>...</td>\n",
       "      <td>NaN</td>\n",
       "      <td>2:34</td>\n",
       "      <td>154</td>\n",
       "      <td>American</td>\n",
       "      <td>West</td>\n",
       "      <td>West</td>\n",
       "      <td>3.8</td>\n",
       "      <td>6123000.0</td>\n",
       "      <td>NaN</td>\n",
       "      <td>NaN</td>\n",
       "    </tr>\n",
       "    <tr>\n",
       "      <th>4</th>\n",
       "      <td>2024</td>\n",
       "      <td>San Diego Padres</td>\n",
       "      <td>San Diego</td>\n",
       "      <td>California</td>\n",
       "      <td>78</td>\n",
       "      <td>61</td>\n",
       "      <td>0.561</td>\n",
       "      <td>4.8</td>\n",
       "      <td>4.3</td>\n",
       "      <td>0.5</td>\n",
       "      <td>...</td>\n",
       "      <td>NaN</td>\n",
       "      <td>2:42</td>\n",
       "      <td>162</td>\n",
       "      <td>National</td>\n",
       "      <td>West</td>\n",
       "      <td>West</td>\n",
       "      <td>3.8</td>\n",
       "      <td>6123000.0</td>\n",
       "      <td>NaN</td>\n",
       "      <td>NaN</td>\n",
       "    </tr>\n",
       "  </tbody>\n",
       "</table>\n",
       "<p>5 rows × 93 columns</p>\n",
       "</div>"
      ],
      "text/plain": [
       "   Year                  Team         City       State   W   L   W-L%    R  \\\n",
       "0  2024  Arizona Diamondbacks      Phoenix     Arizona  77  60  0.562  5.4   \n",
       "1  2024    Los Angeles Angels      Anaheim  California  57  80  0.416  3.9   \n",
       "2  2024   Los Angeles Dodgers  Los Angeles  California  82  55  0.599  5.0   \n",
       "3  2024     Oakland Athletics      Oakland  California  59  78  0.431  4.1   \n",
       "4  2024      San Diego Padres    San Diego  California  78  61  0.561  4.8   \n",
       "\n",
       "    RA  Rdiff  ...  Est. Payroll  Avg Game Time  Avg Game Time Min    League  \\\n",
       "0  4.7    0.7  ...           NaN           2:43                163  National   \n",
       "1  4.8   -0.9  ...           NaN           2:37                157  American   \n",
       "2  4.2    0.8  ...           NaN           2:41                161  National   \n",
       "3  4.6   -0.5  ...           NaN           2:34                154  American   \n",
       "4  4.3    0.5  ...           NaN           2:42                162  National   \n",
       "\n",
       "   Division  Region  All Star Rating  All Star Viewers  World Series Rating  \\\n",
       "0      West    West              3.8         6123000.0                  NaN   \n",
       "1      West    West              3.8         6123000.0                  NaN   \n",
       "2      West    West              3.8         6123000.0                  NaN   \n",
       "3      West    West              3.8         6123000.0                  NaN   \n",
       "4      West    West              3.8         6123000.0                  NaN   \n",
       "\n",
       "   World Series Viewers  \n",
       "0                   NaN  \n",
       "1                   NaN  \n",
       "2                   NaN  \n",
       "3                   NaN  \n",
       "4                   NaN  \n",
       "\n",
       "[5 rows x 93 columns]"
      ]
     },
     "execution_count": 14,
     "metadata": {},
     "output_type": "execute_result"
    }
   ],
   "source": [
    "mlb.head()"
   ]
  },
  {
   "cell_type": "code",
   "execution_count": 15,
   "id": "d892c8a1-537f-438f-9b16-34a1c93a549d",
   "metadata": {
    "tags": []
   },
   "outputs": [
    {
     "name": "stdout",
     "output_type": "stream",
     "text": [
      "Index(['Year', 'Team', 'City', 'State', 'W', 'L', 'W-L%', 'R', 'RA', 'Rdiff',\n",
      "       'Home Wins', 'Home Losses', 'Road Wins', 'Road Losses', '# of Batters',\n",
      "       'Avg Bat Age', 'R/G', 'G', 'PA', 'AB', 'TR', 'H', '2B', '3B', 'HR',\n",
      "       'RBI', 'SB', 'CS', 'BB', 'SO', 'BA', 'OBP', 'SLG', 'OPS', 'OPS+', 'TB',\n",
      "       'GDP', 'HBP', 'SH', 'SF', 'IBB', 'LOB', '#P', 'Avg Pitcher Age', 'RA/G',\n",
      "       'PW', 'PL', 'PW-L%', 'ERA', 'G.1', 'GS', 'GF', 'CG', 'tSho', 'cSho',\n",
      "       'SV', 'IP', 'HA', 'TRA', 'ER', 'HRA', 'PBB', 'PIBB', 'PSO', 'PHBP',\n",
      "       'BK', 'WP', 'BF', 'ERA+', 'FIP', 'WHIP', 'H9', 'HR9', 'BB9', 'SO9',\n",
      "       'SO/W', 'OLOB', 'Attendance', 'Attend/G', 'BPF', 'PPF',\n",
      "       '# of All Stars', 'Cumulative # of All Stars', 'Est. Payroll',\n",
      "       'Avg Game Time', 'Avg Game Time Min', 'League', 'Division', 'Region',\n",
      "       'All Star Rating', 'All Star Viewers', 'World Series Rating',\n",
      "       'World Series Viewers'],\n",
      "      dtype='object')\n"
     ]
    }
   ],
   "source": [
    "# Printing all column names\n",
    "print(mlb.columns)"
   ]
  },
  {
   "cell_type": "code",
   "execution_count": 123,
   "id": "d6f6b934-94b1-4976-bb41-7f9316f2fd7b",
   "metadata": {
    "tags": []
   },
   "outputs": [],
   "source": [
    "# Create subset with pertinent columns\n",
    "mlb_sub = mlb[['Team', 'Year', 'Home Wins', 'Attendance', 'Attend/G', 'Avg Game Time Min']]"
   ]
  },
  {
   "cell_type": "code",
   "execution_count": 125,
   "id": "44901d94-3eb6-40a1-a35a-f1141e8637da",
   "metadata": {
    "tags": []
   },
   "outputs": [
    {
     "data": {
      "text/html": [
       "<div>\n",
       "<style scoped>\n",
       "    .dataframe tbody tr th:only-of-type {\n",
       "        vertical-align: middle;\n",
       "    }\n",
       "\n",
       "    .dataframe tbody tr th {\n",
       "        vertical-align: top;\n",
       "    }\n",
       "\n",
       "    .dataframe thead th {\n",
       "        text-align: right;\n",
       "    }\n",
       "</style>\n",
       "<table border=\"1\" class=\"dataframe\">\n",
       "  <thead>\n",
       "    <tr style=\"text-align: right;\">\n",
       "      <th></th>\n",
       "      <th>Team</th>\n",
       "      <th>Year</th>\n",
       "      <th>Home Wins</th>\n",
       "      <th>Attendance</th>\n",
       "      <th>Attend/G</th>\n",
       "      <th>Avg Game Time Min</th>\n",
       "    </tr>\n",
       "  </thead>\n",
       "  <tbody>\n",
       "    <tr>\n",
       "      <th>0</th>\n",
       "      <td>Arizona Diamondbacks</td>\n",
       "      <td>2024</td>\n",
       "      <td>39</td>\n",
       "      <td>1947852</td>\n",
       "      <td>28230</td>\n",
       "      <td>163</td>\n",
       "    </tr>\n",
       "    <tr>\n",
       "      <th>1</th>\n",
       "      <td>Los Angeles Angels</td>\n",
       "      <td>2024</td>\n",
       "      <td>29</td>\n",
       "      <td>2160322</td>\n",
       "      <td>30862</td>\n",
       "      <td>157</td>\n",
       "    </tr>\n",
       "    <tr>\n",
       "      <th>2</th>\n",
       "      <td>Los Angeles Dodgers</td>\n",
       "      <td>2024</td>\n",
       "      <td>45</td>\n",
       "      <td>3344745</td>\n",
       "      <td>48475</td>\n",
       "      <td>161</td>\n",
       "    </tr>\n",
       "    <tr>\n",
       "      <th>3</th>\n",
       "      <td>Oakland Athletics</td>\n",
       "      <td>2024</td>\n",
       "      <td>33</td>\n",
       "      <td>661763</td>\n",
       "      <td>9732</td>\n",
       "      <td>154</td>\n",
       "    </tr>\n",
       "    <tr>\n",
       "      <th>4</th>\n",
       "      <td>San Diego Padres</td>\n",
       "      <td>2024</td>\n",
       "      <td>37</td>\n",
       "      <td>2806563</td>\n",
       "      <td>40675</td>\n",
       "      <td>162</td>\n",
       "    </tr>\n",
       "  </tbody>\n",
       "</table>\n",
       "</div>"
      ],
      "text/plain": [
       "                   Team  Year  Home Wins  Attendance  Attend/G  \\\n",
       "0  Arizona Diamondbacks  2024         39     1947852     28230   \n",
       "1    Los Angeles Angels  2024         29     2160322     30862   \n",
       "2   Los Angeles Dodgers  2024         45     3344745     48475   \n",
       "3     Oakland Athletics  2024         33      661763      9732   \n",
       "4      San Diego Padres  2024         37     2806563     40675   \n",
       "\n",
       "   Avg Game Time Min  \n",
       "0                163  \n",
       "1                157  \n",
       "2                161  \n",
       "3                154  \n",
       "4                162  "
      ]
     },
     "execution_count": 125,
     "metadata": {},
     "output_type": "execute_result"
    }
   ],
   "source": [
    "mlb_sub.head()"
   ]
  },
  {
   "cell_type": "markdown",
   "id": "9c015069-d6f3-4d70-a941-fbedd50e420a",
   "metadata": {},
   "source": [
    "### Create Scatter Plots"
   ]
  },
  {
   "cell_type": "code",
   "execution_count": 128,
   "id": "28be1388-3c6c-4660-bbf4-36bde757033b",
   "metadata": {
    "tags": []
   },
   "outputs": [
    {
     "data": {
      "image/png": "[encoded data removed]",
      "text/plain": [
       "<Figure size 1000x600 with 1 Axes>"
      ]
     },
     "metadata": {},
     "output_type": "display_data"
    }
   ],
   "source": [
    "# Create a scatter plot for the 'Avg Game Time Min' column\n",
    "plt.figure(figsize=(10, 6)) \n",
    "plt.scatter(mlb_sub.index, mlb_sub['Avg Game Time Min'], alpha=0.7)\n",
    "plt.title('Scatter Plot of Average Game Time (Minutes)')\n",
    "plt.xlabel('Index')\n",
    "plt.ylabel('Avg Game Time Min')\n",
    "plt.grid(True)  \n",
    "plt.show()"
   ]
  },
  {
   "cell_type": "code",
   "execution_count": 130,
   "id": "76c188fd-3530-4d5a-8878-51bdc1b24098",
   "metadata": {
    "tags": []
   },
   "outputs": [
    {
     "data": {
      "image/png": "[encoded data removed]",
      "text/plain": [
       "<Figure size 1000x600 with 1 Axes>"
      ]
     },
     "metadata": {},
     "output_type": "display_data"
    }
   ],
   "source": [
    "# Create a scatter plot for the 'Avg Game Time Min' column\n",
    "plt.figure(figsize=(10, 6)) \n",
    "plt.scatter(mlb_sub.index, mlb_sub['Attend/G'], alpha=0.7)\n",
    "plt.title('Scatter Plot of Attendance per Game')\n",
    "plt.xlabel('Index')\n",
    "plt.ylabel('Attend/G')\n",
    "plt.grid(True)  \n",
    "plt.show()"
   ]
  },
  {
   "cell_type": "markdown",
   "id": "ec4b5108-3f7c-46a1-9a7d-2092972d3144",
   "metadata": {},
   "source": [
    "### Hypotheses:\n",
    "1. As year increases, the average time of games will decrease\n",
    "2. As average time of games decreases, attendance will increase\n",
    "3. As year increases, average attendance will decrease"
   ]
  },
  {
   "cell_type": "markdown",
   "id": "d8b1966d-8d6c-46cc-8e91-c364fcad124c",
   "metadata": {},
   "source": [
    "### Data prep for regression analysis of game time and year"
   ]
  },
  {
   "cell_type": "code",
   "execution_count": 134,
   "id": "21038b2d-4360-49c6-a860-6cb170f2c916",
   "metadata": {
    "tags": []
   },
   "outputs": [],
   "source": [
    "# Reshape the variables into NumPy arrays and put them into separate objects.\n",
    "X = mlb_sub['Year'].values.reshape(-1,1)\n",
    "y = mlb_sub['Avg Game Time Min'].values.reshape(-1,1)"
   ]
  },
  {
   "cell_type": "code",
   "execution_count": 136,
   "id": "886cedef-0be9-4fe5-b815-d83e5488fa7b",
   "metadata": {
    "tags": []
   },
   "outputs": [
    {
     "data": {
      "text/plain": [
       "array([[2024],\n",
       "       [2024],\n",
       "       [2024],\n",
       "       [2024],\n",
       "       [2024],\n",
       "       [2024],\n",
       "       [2024],\n",
       "       [2024],\n",
       "       [2024],\n",
       "       [2024],\n",
       "       [2024],\n",
       "       [2024],\n",
       "       [2024],\n",
       "       [2024],\n",
       "       [2024],\n",
       "       [2024],\n",
       "       [2024],\n",
       "       [2024],\n",
       "       [2024],\n",
       "       [2024],\n",
       "       [2024],\n",
       "       [2024],\n",
       "       [2024],\n",
       "       [2024],\n",
       "       [2024],\n",
       "       [2024],\n",
       "       [2024],\n",
       "       [2024],\n",
       "       [2024],\n",
       "       [2024],\n",
       "       [2023],\n",
       "       [2023],\n",
       "       [2023],\n",
       "       [2023],\n",
       "       [2023],\n",
       "       [2023],\n",
       "       [2023],\n",
       "       [2023],\n",
       "       [2023],\n",
       "       [2023],\n",
       "       [2023],\n",
       "       [2023],\n",
       "       [2023],\n",
       "       [2023],\n",
       "       [2023],\n",
       "       [2023],\n",
       "       [2023],\n",
       "       [2023],\n",
       "       [2023],\n",
       "       [2023],\n",
       "       [2023],\n",
       "       [2023],\n",
       "       [2023],\n",
       "       [2023],\n",
       "       [2023],\n",
       "       [2023],\n",
       "       [2023],\n",
       "       [2023],\n",
       "       [2023],\n",
       "       [2023],\n",
       "       [2022],\n",
       "       [2022],\n",
       "       [2022],\n",
       "       [2022],\n",
       "       [2022],\n",
       "       [2022],\n",
       "       [2022],\n",
       "       [2022],\n",
       "       [2022],\n",
       "       [2022],\n",
       "       [2022],\n",
       "       [2022],\n",
       "       [2022],\n",
       "       [2022],\n",
       "       [2022],\n",
       "       [2022],\n",
       "       [2022],\n",
       "       [2022],\n",
       "       [2022],\n",
       "       [2022],\n",
       "       [2022],\n",
       "       [2022],\n",
       "       [2022],\n",
       "       [2022],\n",
       "       [2022],\n",
       "       [2022],\n",
       "       [2022],\n",
       "       [2022],\n",
       "       [2022],\n",
       "       [2022],\n",
       "       [2021],\n",
       "       [2021],\n",
       "       [2021],\n",
       "       [2021],\n",
       "       [2021],\n",
       "       [2021],\n",
       "       [2021],\n",
       "       [2021],\n",
       "       [2021],\n",
       "       [2021],\n",
       "       [2021],\n",
       "       [2021],\n",
       "       [2021],\n",
       "       [2021],\n",
       "       [2021],\n",
       "       [2021],\n",
       "       [2021],\n",
       "       [2021],\n",
       "       [2021],\n",
       "       [2021],\n",
       "       [2021],\n",
       "       [2021],\n",
       "       [2021],\n",
       "       [2021],\n",
       "       [2021],\n",
       "       [2021],\n",
       "       [2021],\n",
       "       [2021],\n",
       "       [2021],\n",
       "       [2021],\n",
       "       [2020],\n",
       "       [2020],\n",
       "       [2020],\n",
       "       [2020],\n",
       "       [2020],\n",
       "       [2020],\n",
       "       [2020],\n",
       "       [2020],\n",
       "       [2020],\n",
       "       [2020],\n",
       "       [2020],\n",
       "       [2020],\n",
       "       [2020],\n",
       "       [2020],\n",
       "       [2020],\n",
       "       [2020],\n",
       "       [2020],\n",
       "       [2020],\n",
       "       [2020],\n",
       "       [2020],\n",
       "       [2020],\n",
       "       [2020],\n",
       "       [2020],\n",
       "       [2020],\n",
       "       [2020],\n",
       "       [2020],\n",
       "       [2020],\n",
       "       [2020],\n",
       "       [2020],\n",
       "       [2020],\n",
       "       [2019],\n",
       "       [2019],\n",
       "       [2019],\n",
       "       [2019],\n",
       "       [2019],\n",
       "       [2019],\n",
       "       [2019],\n",
       "       [2019],\n",
       "       [2019],\n",
       "       [2019],\n",
       "       [2019],\n",
       "       [2019],\n",
       "       [2019],\n",
       "       [2019],\n",
       "       [2019],\n",
       "       [2019],\n",
       "       [2019],\n",
       "       [2019],\n",
       "       [2019],\n",
       "       [2019],\n",
       "       [2019],\n",
       "       [2019],\n",
       "       [2019],\n",
       "       [2019],\n",
       "       [2019],\n",
       "       [2019],\n",
       "       [2019],\n",
       "       [2019],\n",
       "       [2019],\n",
       "       [2019],\n",
       "       [2018],\n",
       "       [2018],\n",
       "       [2018],\n",
       "       [2018],\n",
       "       [2018],\n",
       "       [2018],\n",
       "       [2018],\n",
       "       [2018],\n",
       "       [2018],\n",
       "       [2018],\n",
       "       [2018],\n",
       "       [2018],\n",
       "       [2018],\n",
       "       [2018],\n",
       "       [2018],\n",
       "       [2018],\n",
       "       [2018],\n",
       "       [2018],\n",
       "       [2018],\n",
       "       [2018],\n",
       "       [2018],\n",
       "       [2018],\n",
       "       [2018],\n",
       "       [2018],\n",
       "       [2018],\n",
       "       [2018],\n",
       "       [2018],\n",
       "       [2018],\n",
       "       [2018],\n",
       "       [2018],\n",
       "       [2017],\n",
       "       [2017],\n",
       "       [2017],\n",
       "       [2017],\n",
       "       [2017],\n",
       "       [2017],\n",
       "       [2017],\n",
       "       [2017],\n",
       "       [2017],\n",
       "       [2017],\n",
       "       [2017],\n",
       "       [2017],\n",
       "       [2017],\n",
       "       [2017],\n",
       "       [2017],\n",
       "       [2017],\n",
       "       [2017],\n",
       "       [2017],\n",
       "       [2017],\n",
       "       [2017],\n",
       "       [2017],\n",
       "       [2017],\n",
       "       [2017],\n",
       "       [2017],\n",
       "       [2017],\n",
       "       [2017],\n",
       "       [2017],\n",
       "       [2017],\n",
       "       [2017],\n",
       "       [2017],\n",
       "       [2016],\n",
       "       [2016],\n",
       "       [2016],\n",
       "       [2016],\n",
       "       [2016],\n",
       "       [2016],\n",
       "       [2016],\n",
       "       [2016],\n",
       "       [2016],\n",
       "       [2016],\n",
       "       [2016],\n",
       "       [2016],\n",
       "       [2016],\n",
       "       [2016],\n",
       "       [2016],\n",
       "       [2016],\n",
       "       [2016],\n",
       "       [2016],\n",
       "       [2016],\n",
       "       [2016],\n",
       "       [2016],\n",
       "       [2016],\n",
       "       [2016],\n",
       "       [2016],\n",
       "       [2016],\n",
       "       [2016],\n",
       "       [2016],\n",
       "       [2016],\n",
       "       [2016],\n",
       "       [2016],\n",
       "       [2015],\n",
       "       [2015],\n",
       "       [2015],\n",
       "       [2015],\n",
       "       [2015],\n",
       "       [2015],\n",
       "       [2015],\n",
       "       [2015],\n",
       "       [2015],\n",
       "       [2015],\n",
       "       [2015],\n",
       "       [2015],\n",
       "       [2015],\n",
       "       [2015],\n",
       "       [2015],\n",
       "       [2015],\n",
       "       [2015],\n",
       "       [2015],\n",
       "       [2015],\n",
       "       [2015],\n",
       "       [2015],\n",
       "       [2015],\n",
       "       [2015],\n",
       "       [2015],\n",
       "       [2015],\n",
       "       [2015],\n",
       "       [2015],\n",
       "       [2015],\n",
       "       [2015],\n",
       "       [2015]], dtype=int64)"
      ]
     },
     "execution_count": 136,
     "metadata": {},
     "output_type": "execute_result"
    }
   ],
   "source": [
    "X"
   ]
  },
  {
   "cell_type": "code",
   "execution_count": 138,
   "id": "67d96438-1600-4bbf-bbb1-0de33d92deac",
   "metadata": {
    "tags": []
   },
   "outputs": [
    {
     "data": {
      "text/plain": [
       "array([[163],\n",
       "       [157],\n",
       "       [161],\n",
       "       [154],\n",
       "       [162],\n",
       "       [156],\n",
       "       [160],\n",
       "       [157],\n",
       "       [157],\n",
       "       [159],\n",
       "       [155],\n",
       "       [158],\n",
       "       [155],\n",
       "       [162],\n",
       "       [162],\n",
       "       [153],\n",
       "       [158],\n",
       "       [152],\n",
       "       [159],\n",
       "       [165],\n",
       "       [168],\n",
       "       [156],\n",
       "       [158],\n",
       "       [159],\n",
       "       [161],\n",
       "       [159],\n",
       "       [158],\n",
       "       [157],\n",
       "       [157],\n",
       "       [160],\n",
       "       [163],\n",
       "       [164],\n",
       "       [163],\n",
       "       [164],\n",
       "       [166],\n",
       "       [159],\n",
       "       [161],\n",
       "       [161],\n",
       "       [158],\n",
       "       [158],\n",
       "       [162],\n",
       "       [163],\n",
       "       [161],\n",
       "       [167],\n",
       "       [165],\n",
       "       [158],\n",
       "       [162],\n",
       "       [158],\n",
       "       [163],\n",
       "       [165],\n",
       "       [162],\n",
       "       [159],\n",
       "       [167],\n",
       "       [165],\n",
       "       [164],\n",
       "       [160],\n",
       "       [165],\n",
       "       [160],\n",
       "       [163],\n",
       "       [160],\n",
       "       [186],\n",
       "       [187],\n",
       "       [188],\n",
       "       [182],\n",
       "       [193],\n",
       "       [188],\n",
       "       [185],\n",
       "       [187],\n",
       "       [186],\n",
       "       [183],\n",
       "       [187],\n",
       "       [186],\n",
       "       [188],\n",
       "       [188],\n",
       "       [191],\n",
       "       [178],\n",
       "       [187],\n",
       "       [183],\n",
       "       [188],\n",
       "       [190],\n",
       "       [193],\n",
       "       [181],\n",
       "       [186],\n",
       "       [186],\n",
       "       [191],\n",
       "       [184],\n",
       "       [186],\n",
       "       [185],\n",
       "       [186],\n",
       "       [191],\n",
       "       [195],\n",
       "       [192],\n",
       "       [198],\n",
       "       [188],\n",
       "       [198],\n",
       "       [192],\n",
       "       [192],\n",
       "       [193],\n",
       "       [191],\n",
       "       [187],\n",
       "       [188],\n",
       "       [196],\n",
       "       [189],\n",
       "       [186],\n",
       "       [197],\n",
       "       [186],\n",
       "       [190],\n",
       "       [188],\n",
       "       [190],\n",
       "       [189],\n",
       "       [196],\n",
       "       [194],\n",
       "       [184],\n",
       "       [184],\n",
       "       [197],\n",
       "       [191],\n",
       "       [199],\n",
       "       [185],\n",
       "       [192],\n",
       "       [196],\n",
       "       [188],\n",
       "       [194],\n",
       "       [189],\n",
       "       [177],\n",
       "       [184],\n",
       "       [188],\n",
       "       [190],\n",
       "       [190],\n",
       "       [185],\n",
       "       [190],\n",
       "       [193],\n",
       "       [186],\n",
       "       [190],\n",
       "       [184],\n",
       "       [200],\n",
       "       [179],\n",
       "       [186],\n",
       "       [185],\n",
       "       [172],\n",
       "       [191],\n",
       "       [186],\n",
       "       [178],\n",
       "       [186],\n",
       "       [195],\n",
       "       [188],\n",
       "       [185],\n",
       "       [188],\n",
       "       [184],\n",
       "       [179],\n",
       "       [182],\n",
       "       [195],\n",
       "       [195],\n",
       "       [192],\n",
       "       [187],\n",
       "       [187],\n",
       "       [187],\n",
       "       [194],\n",
       "       [192],\n",
       "       [185],\n",
       "       [191],\n",
       "       [193],\n",
       "       [192],\n",
       "       [190],\n",
       "       [187],\n",
       "       [205],\n",
       "       [182],\n",
       "       [194],\n",
       "       [183],\n",
       "       [190],\n",
       "       [189],\n",
       "       [191],\n",
       "       [183],\n",
       "       [183],\n",
       "       [187],\n",
       "       [195],\n",
       "       [192],\n",
       "       [185],\n",
       "       [191],\n",
       "       [188],\n",
       "       [196],\n",
       "       [190],\n",
       "       [189],\n",
       "       [193],\n",
       "       [185],\n",
       "       [180],\n",
       "       [181],\n",
       "       [184],\n",
       "       [187],\n",
       "       [182],\n",
       "       [181],\n",
       "       [184],\n",
       "       [189],\n",
       "       [188],\n",
       "       [181],\n",
       "       [193],\n",
       "       [180],\n",
       "       [190],\n",
       "       [177],\n",
       "       [190],\n",
       "       [181],\n",
       "       [191],\n",
       "       [183],\n",
       "       [183],\n",
       "       [179],\n",
       "       [190],\n",
       "       [184],\n",
       "       [184],\n",
       "       [184],\n",
       "       [178],\n",
       "       [187],\n",
       "       [189],\n",
       "       [191],\n",
       "       [191],\n",
       "       [189],\n",
       "       [180],\n",
       "       [184],\n",
       "       [191],\n",
       "       [189],\n",
       "       [186],\n",
       "       [193],\n",
       "       [184],\n",
       "       [189],\n",
       "       [190],\n",
       "       [189],\n",
       "       [200],\n",
       "       [194],\n",
       "       [191],\n",
       "       [182],\n",
       "       [184],\n",
       "       [189],\n",
       "       [196],\n",
       "       [183],\n",
       "       [186],\n",
       "       [189],\n",
       "       [188],\n",
       "       [187],\n",
       "       [190],\n",
       "       [193],\n",
       "       [186],\n",
       "       [190],\n",
       "       [194],\n",
       "       [184],\n",
       "       [190],\n",
       "       [176],\n",
       "       [186],\n",
       "       [190],\n",
       "       [191],\n",
       "       [188],\n",
       "       [185],\n",
       "       [181],\n",
       "       [188],\n",
       "       [185],\n",
       "       [183],\n",
       "       [180],\n",
       "       [192],\n",
       "       [185],\n",
       "       [185],\n",
       "       [179],\n",
       "       [181],\n",
       "       [185],\n",
       "       [183],\n",
       "       [184],\n",
       "       [183],\n",
       "       [180],\n",
       "       [183],\n",
       "       [191],\n",
       "       [184],\n",
       "       [180],\n",
       "       [182],\n",
       "       [188],\n",
       "       [190],\n",
       "       [180],\n",
       "       [183],\n",
       "       [181],\n",
       "       [181],\n",
       "       [182],\n",
       "       [186],\n",
       "       [174],\n",
       "       [171],\n",
       "       [179],\n",
       "       [175],\n",
       "       [182],\n",
       "       [180],\n",
       "       [175],\n",
       "       [186],\n",
       "       [189],\n",
       "       [177],\n",
       "       [180],\n",
       "       [179],\n",
       "       [176],\n",
       "       [188],\n",
       "       [182],\n",
       "       [180],\n",
       "       [173],\n",
       "       [178],\n",
       "       [186],\n",
       "       [183],\n",
       "       [184],\n",
       "       [181],\n",
       "       [181]], dtype=int64)"
      ]
     },
     "execution_count": 138,
     "metadata": {},
     "output_type": "execute_result"
    }
   ],
   "source": [
    "y"
   ]
  },
  {
   "cell_type": "code",
   "execution_count": 140,
   "id": "572fe6ad-1bfd-495b-bee0-a0b46d7f27f5",
   "metadata": {
    "tags": []
   },
   "outputs": [],
   "source": [
    "# Split data into a training set and a test set.\n",
    "X_train, X_test, y_train, y_test = train_test_split(X, y, test_size=0.3, random_state=0)"
   ]
  },
  {
   "cell_type": "markdown",
   "id": "b230040a-2133-4b79-9c5e-ecbc10586e5c",
   "metadata": {},
   "source": [
    "### Regression Analysis of Game Time and Year"
   ]
  },
  {
   "cell_type": "code",
   "execution_count": 143,
   "id": "2a109277-7f3a-4ad3-9799-91f00bdf55dc",
   "metadata": {
    "tags": []
   },
   "outputs": [],
   "source": [
    "# Create a regression object.\n",
    "regression = LinearRegression()"
   ]
  },
  {
   "cell_type": "code",
   "execution_count": 145,
   "id": "be8ba3c6-1928-4fcd-8e5a-fa4cc1ba3ef9",
   "metadata": {
    "tags": []
   },
   "outputs": [
    {
     "data": {
      "text/html": [
       "<style>#sk-container-id-4 {color: black;background-color: white;}#sk-container-id-4 pre{padding: 0;}#sk-container-id-4 div.sk-toggleable {background-color: white;}#sk-container-id-4 label.sk-toggleable__label {cursor: pointer;display: block;width: 100%;margin-bottom: 0;padding: 0.3em;box-sizing: border-box;text-align: center;}#sk-container-id-4 label.sk-toggleable__label-arrow:before {content: \"▸\";float: left;margin-right: 0.25em;color: #696969;}#sk-container-id-4 label.sk-toggleable__label-arrow:hover:before {color: black;}#sk-container-id-4 div.sk-estimator:hover label.sk-toggleable__label-arrow:before {color: black;}#sk-container-id-4 div.sk-toggleable__content {max-height: 0;max-width: 0;overflow: hidden;text-align: left;background-color: #f0f8ff;}#sk-container-id-4 div.sk-toggleable__content pre {margin: 0.2em;color: black;border-radius: 0.25em;background-color: #f0f8ff;}#sk-container-id-4 input.sk-toggleable__control:checked~div.sk-toggleable__content {max-height: 200px;max-width: 100%;overflow: auto;}#sk-container-id-4 input.sk-toggleable__control:checked~label.sk-toggleable__label-arrow:before {content: \"▾\";}#sk-container-id-4 div.sk-estimator input.sk-toggleable__control:checked~label.sk-toggleable__label {background-color: #d4ebff;}#sk-container-id-4 div.sk-label input.sk-toggleable__control:checked~label.sk-toggleable__label {background-color: #d4ebff;}#sk-container-id-4 input.sk-hidden--visually {border: 0;clip: rect(1px 1px 1px 1px);clip: rect(1px, 1px, 1px, 1px);height: 1px;margin: -1px;overflow: hidden;padding: 0;position: absolute;width: 1px;}#sk-container-id-4 div.sk-estimator {font-family: monospace;background-color: #f0f8ff;border: 1px dotted black;border-radius: 0.25em;box-sizing: border-box;margin-bottom: 0.5em;}#sk-container-id-4 div.sk-estimator:hover {background-color: #d4ebff;}#sk-container-id-4 div.sk-parallel-item::after {content: \"\";width: 100%;border-bottom: 1px solid gray;flex-grow: 1;}#sk-container-id-4 div.sk-label:hover label.sk-toggleable__label {background-color: #d4ebff;}#sk-container-id-4 div.sk-serial::before {content: \"\";position: absolute;border-left: 1px solid gray;box-sizing: border-box;top: 0;bottom: 0;left: 50%;z-index: 0;}#sk-container-id-4 div.sk-serial {display: flex;flex-direction: column;align-items: center;background-color: white;padding-right: 0.2em;padding-left: 0.2em;position: relative;}#sk-container-id-4 div.sk-item {position: relative;z-index: 1;}#sk-container-id-4 div.sk-parallel {display: flex;align-items: stretch;justify-content: center;background-color: white;position: relative;}#sk-container-id-4 div.sk-item::before, #sk-container-id-4 div.sk-parallel-item::before {content: \"\";position: absolute;border-left: 1px solid gray;box-sizing: border-box;top: 0;bottom: 0;left: 50%;z-index: -1;}#sk-container-id-4 div.sk-parallel-item {display: flex;flex-direction: column;z-index: 1;position: relative;background-color: white;}#sk-container-id-4 div.sk-parallel-item:first-child::after {align-self: flex-end;width: 50%;}#sk-container-id-4 div.sk-parallel-item:last-child::after {align-self: flex-start;width: 50%;}#sk-container-id-4 div.sk-parallel-item:only-child::after {width: 0;}#sk-container-id-4 div.sk-dashed-wrapped {border: 1px dashed gray;margin: 0 0.4em 0.5em 0.4em;box-sizing: border-box;padding-bottom: 0.4em;background-color: white;}#sk-container-id-4 div.sk-label label {font-family: monospace;font-weight: bold;display: inline-block;line-height: 1.2em;}#sk-container-id-4 div.sk-label-container {text-align: center;}#sk-container-id-4 div.sk-container {/* jupyter's `normalize.less` sets `[hidden] { display: none; }` but bootstrap.min.css set `[hidden] { display: none !important; }` so we also need the `!important` here to be able to override the default hidden behavior on the sphinx rendered scikit-learn.org. See: https://github.com/scikit-learn/scikit-learn/issues/21755 */display: inline-block !important;position: relative;}#sk-container-id-4 div.sk-text-repr-fallback {display: none;}</style><div id=\"sk-container-id-4\" class=\"sk-top-container\"><div class=\"sk-text-repr-fallback\"><pre>LinearRegression()</pre><b>In a Jupyter environment, please rerun this cell to show the HTML representation or trust the notebook. <br />On GitHub, the HTML representation is unable to render, please try loading this page with nbviewer.org.</b></div><div class=\"sk-container\" hidden><div class=\"sk-item\"><div class=\"sk-estimator sk-toggleable\"><input class=\"sk-toggleable__control sk-hidden--visually\" id=\"sk-estimator-id-4\" type=\"checkbox\" checked><label for=\"sk-estimator-id-4\" class=\"sk-toggleable__label sk-toggleable__label-arrow\">LinearRegression</label><div class=\"sk-toggleable__content\"><pre>LinearRegression()</pre></div></div></div></div></div>"
      ],
      "text/plain": [
       "LinearRegression()"
      ]
     },
     "execution_count": 145,
     "metadata": {},
     "output_type": "execute_result"
    }
   ],
   "source": [
    "regression.fit(X_train, y_train)"
   ]
  },
  {
   "cell_type": "code",
   "execution_count": 147,
   "id": "8d0104a4-bcd3-44ad-b5d2-0f89aceca37b",
   "metadata": {
    "tags": []
   },
   "outputs": [],
   "source": [
    "# Predict the values of y using X for training set\n",
    "y_train_predicted = regression.predict(X_train)"
   ]
  },
  {
   "cell_type": "code",
   "execution_count": 149,
   "id": "4c3ae0bf-beeb-4b4f-8849-f66db2cefc13",
   "metadata": {
    "tags": []
   },
   "outputs": [
    {
     "data": {
      "image/png": "[encoded data removed]",
      "text/plain": [
       "<Figure size 640x480 with 1 Axes>"
      ]
     },
     "metadata": {},
     "output_type": "display_data"
    }
   ],
   "source": [
    "# Create a plot that shows the regression line from the model on the training set.\n",
    "plot_train = plt\n",
    "plot_train.scatter(X_train, y_train, color='gray', s=15)\n",
    "plot_train.plot(X_train, y_train_predicted, color='blue', linewidth=3)\n",
    "plot_train.title('Average Game Time by Year (Training Set)')\n",
    "plot_train.xlabel('Year')\n",
    "plot_train.ylabel('Average Time of Game in Minutes')\n",
    "plot_train.show()\n"
   ]
  },
  {
   "cell_type": "code",
   "execution_count": 151,
   "id": "23c985bb-9e21-47bf-aae9-8628bbc8958e",
   "metadata": {
    "tags": []
   },
   "outputs": [],
   "source": [
    "# Predict the values of y using X for test set\n",
    "y_test_predicted = regression.predict(X_test)"
   ]
  },
  {
   "cell_type": "code",
   "execution_count": 153,
   "id": "f4a94106-158a-4cf0-8d88-c06c132194b9",
   "metadata": {
    "tags": []
   },
   "outputs": [
    {
     "data": {
      "image/png": "[encoded data removed]",
      "text/plain": [
       "<Figure size 640x480 with 1 Axes>"
      ]
     },
     "metadata": {},
     "output_type": "display_data"
    }
   ],
   "source": [
    "# Create a plot that shows the regression line from the model on the test set.\n",
    "\n",
    "plot_test = plt\n",
    "plot_test.scatter(X_test, y_test, color='gray', s = 15)\n",
    "plot_test.plot(X_test, y_test_predicted, color='blue', linewidth =3)\n",
    "plot_test.title('Average Game Time by Year (Test Set)')\n",
    "plot_test.xlabel('Year')\n",
    "plot_test.ylabel('Average Time of Game in Minutes')\n",
    "plot_test.show()"
   ]
  },
  {
   "cell_type": "code",
   "execution_count": 155,
   "id": "ccb7b910-e257-405a-995d-ef3287fe9ea2",
   "metadata": {
    "tags": []
   },
   "outputs": [],
   "source": [
    "# Create objects that contain the model summary statistics.\n",
    "rmse = mean_squared_error(y_test, y_test_predicted)\n",
    "r2 = r2_score(y_test, y_test_predicted)"
   ]
  },
  {
   "cell_type": "markdown",
   "id": "a6a6c7dc-968c-4c4e-87e7-72a954914897",
   "metadata": {},
   "source": [
    "Analysis: There is a clear decrease in game time in theres 2023 and 2024, however the data is limited. The line doesn't fit that well because there hasn't been a steady decrease over time, but rather a sudden drop in 2023. Game length has clearly decreased, but it was not a steady decline. So, the line reflects the trend in decreasing times, but it doesn't fit the data particularly well. "
   ]
  },
  {
   "cell_type": "markdown",
   "id": "103adad6-bcbe-4fad-99cd-e604cd9b9ce0",
   "metadata": {},
   "source": [
    "### Time/Year Summary Stats"
   ]
  },
  {
   "cell_type": "code",
   "execution_count": 159,
   "id": "fddbdcb5-58ee-4a47-9921-dc4360daf75b",
   "metadata": {
    "tags": []
   },
   "outputs": [
    {
     "name": "stdout",
     "output_type": "stream",
     "text": [
      "Slope: [[-2.03195771]]\n",
      "Mean squared error:  110.68015827145453\n",
      "R2 score:  0.26487673836706604\n"
     ]
    }
   ],
   "source": [
    "# Print the model summary statistics. \n",
    "print('Slope:' ,regression.coef_)\n",
    "print('Mean squared error: ', rmse)\n",
    "print('R2 score: ', r2)"
   ]
  },
  {
   "cell_type": "markdown",
   "id": "eea5d2d6-358e-415b-910e-4d55c5553a9b",
   "metadata": {},
   "source": [
    "### Compare actual & predicted y values of time/year"
   ]
  },
  {
   "cell_type": "code",
   "execution_count": 162,
   "id": "afc40320-734d-412c-8fa0-45ce50676127",
   "metadata": {
    "tags": []
   },
   "outputs": [
    {
     "name": "stdout",
     "output_type": "stream",
     "text": [
      "    Actual   Predicted\n",
      "0      178  183.960047\n",
      "1      182  183.960047\n",
      "2      155  171.768301\n",
      "3      189  185.992005\n",
      "4      190  185.992005\n",
      "..     ...         ...\n",
      "85     187  175.832217\n",
      "86     191  185.992005\n",
      "87     194  185.992005\n",
      "88     185  188.023963\n",
      "89     193  185.992005\n",
      "\n",
      "[90 rows x 2 columns]\n"
     ]
    }
   ],
   "source": [
    "# Ensure y_test and y_test_predicted are 1-dimensional arrays\n",
    "y_test_reshaped = y_test.ravel()  # Flatten the array if necessary\n",
    "y_test_predicted_reshaped = y_test_predicted.ravel()\n",
    "\n",
    "# Create the comparison table\n",
    "comparison_table = pd.DataFrame({\n",
    "    'Actual': y_test_reshaped,\n",
    "    'Predicted': y_test_predicted_reshaped\n",
    "})\n",
    "\n",
    "# Display the table\n",
    "print(comparison_table)\n"
   ]
  },
  {
   "cell_type": "markdown",
   "id": "a73a1da5-a6bc-482b-bf1d-64fe63550639",
   "metadata": {},
   "source": [
    "### Analysis of Game Time/Year:\n",
    "\n",
    "The model doesn't fit very well and the predicted values are at times far off from the actual values. The data doesn't fit a linear trend - there is a large drop off in game time begininng in 2023 but not a steady declining that would fit well to a line. There clearly has been a large decrease in game time, so it would seem that the MLB rule changes are working, but a linear regression doesn't reflect this very well. "
   ]
  },
  {
   "cell_type": "markdown",
   "id": "27ea2710-1bad-40ac-bbcf-e7f9f2ce51d3",
   "metadata": {},
   "source": [
    "### Data Prep Analysis of Game Time and Attendance"
   ]
  },
  {
   "cell_type": "code",
   "execution_count": 200,
   "id": "248690f0-d150-45fd-bdd9-da7ca35a8966",
   "metadata": {
    "tags": []
   },
   "outputs": [],
   "source": [
    "# Creating new subset that removes that year 2020 to account for zero attendance during pandemic.\n",
    "mlb_sub2 = mlb_sub[mlb_sub['Year'] != 2020]\n"
   ]
  },
  {
   "cell_type": "code",
   "execution_count": 202,
   "id": "0defee0e-4dcd-467b-9683-102081cb297e",
   "metadata": {
    "tags": []
   },
   "outputs": [
    {
     "data": {
      "text/html": [
       "<div>\n",
       "<style scoped>\n",
       "    .dataframe tbody tr th:only-of-type {\n",
       "        vertical-align: middle;\n",
       "    }\n",
       "\n",
       "    .dataframe tbody tr th {\n",
       "        vertical-align: top;\n",
       "    }\n",
       "\n",
       "    .dataframe thead th {\n",
       "        text-align: right;\n",
       "    }\n",
       "</style>\n",
       "<table border=\"1\" class=\"dataframe\">\n",
       "  <thead>\n",
       "    <tr style=\"text-align: right;\">\n",
       "      <th></th>\n",
       "      <th>Team</th>\n",
       "      <th>Year</th>\n",
       "      <th>Home Wins</th>\n",
       "      <th>Attendance</th>\n",
       "      <th>Attend/G</th>\n",
       "      <th>Avg Game Time Min</th>\n",
       "    </tr>\n",
       "  </thead>\n",
       "  <tbody>\n",
       "    <tr>\n",
       "      <th>0</th>\n",
       "      <td>Arizona Diamondbacks</td>\n",
       "      <td>2024</td>\n",
       "      <td>39</td>\n",
       "      <td>1947852</td>\n",
       "      <td>28230</td>\n",
       "      <td>163</td>\n",
       "    </tr>\n",
       "    <tr>\n",
       "      <th>1</th>\n",
       "      <td>Los Angeles Angels</td>\n",
       "      <td>2024</td>\n",
       "      <td>29</td>\n",
       "      <td>2160322</td>\n",
       "      <td>30862</td>\n",
       "      <td>157</td>\n",
       "    </tr>\n",
       "    <tr>\n",
       "      <th>2</th>\n",
       "      <td>Los Angeles Dodgers</td>\n",
       "      <td>2024</td>\n",
       "      <td>45</td>\n",
       "      <td>3344745</td>\n",
       "      <td>48475</td>\n",
       "      <td>161</td>\n",
       "    </tr>\n",
       "    <tr>\n",
       "      <th>3</th>\n",
       "      <td>Oakland Athletics</td>\n",
       "      <td>2024</td>\n",
       "      <td>33</td>\n",
       "      <td>661763</td>\n",
       "      <td>9732</td>\n",
       "      <td>154</td>\n",
       "    </tr>\n",
       "    <tr>\n",
       "      <th>4</th>\n",
       "      <td>San Diego Padres</td>\n",
       "      <td>2024</td>\n",
       "      <td>37</td>\n",
       "      <td>2806563</td>\n",
       "      <td>40675</td>\n",
       "      <td>162</td>\n",
       "    </tr>\n",
       "  </tbody>\n",
       "</table>\n",
       "</div>"
      ],
      "text/plain": [
       "                   Team  Year  Home Wins  Attendance  Attend/G  \\\n",
       "0  Arizona Diamondbacks  2024         39     1947852     28230   \n",
       "1    Los Angeles Angels  2024         29     2160322     30862   \n",
       "2   Los Angeles Dodgers  2024         45     3344745     48475   \n",
       "3     Oakland Athletics  2024         33      661763      9732   \n",
       "4      San Diego Padres  2024         37     2806563     40675   \n",
       "\n",
       "   Avg Game Time Min  \n",
       "0                163  \n",
       "1                157  \n",
       "2                161  \n",
       "3                154  \n",
       "4                162  "
      ]
     },
     "execution_count": 202,
     "metadata": {},
     "output_type": "execute_result"
    }
   ],
   "source": [
    "# Check head of subset\n",
    "mlb_sub2.head()"
   ]
  },
  {
   "cell_type": "code",
   "execution_count": 204,
   "id": "142f2e8f-0b75-4686-ae2c-e0d756c12519",
   "metadata": {
    "tags": []
   },
   "outputs": [],
   "source": [
    "# Reshape the variables into NumPy arrays and put them into separate objects.\n",
    "X = mlb_sub2['Avg Game Time Min'].values.reshape(-1,1)\n",
    "y = mlb_sub2['Attend/G'].values.reshape(-1,1)"
   ]
  },
  {
   "cell_type": "code",
   "execution_count": 221,
   "id": "73d00d32-2058-4cca-b092-bf4e5bf9aafa",
   "metadata": {
    "tags": []
   },
   "outputs": [],
   "source": [
    "# Split data into a training set and a test set.\n",
    "X_train, X_test, y_train, y_test = train_test_split(X, y, test_size=0.3, random_state=0)"
   ]
  },
  {
   "cell_type": "markdown",
   "id": "0d6c3f61-eced-41b2-913a-4535834ca009",
   "metadata": {},
   "source": [
    "### Regression Analysis of Game Time and Attendance per Game"
   ]
  },
  {
   "cell_type": "code",
   "execution_count": 228,
   "id": "1ebe2ada-0b18-46a1-a124-ddd8750719d9",
   "metadata": {
    "tags": []
   },
   "outputs": [],
   "source": [
    "# Create a regression object.\n",
    "regression = LinearRegression()"
   ]
  },
  {
   "cell_type": "code",
   "execution_count": 230,
   "id": "992e5da8-b2e6-4a8f-ba9a-adeeb03e0635",
   "metadata": {
    "tags": []
   },
   "outputs": [
    {
     "data": {
      "text/html": [
       "<style>#sk-container-id-8 {color: black;background-color: white;}#sk-container-id-8 pre{padding: 0;}#sk-container-id-8 div.sk-toggleable {background-color: white;}#sk-container-id-8 label.sk-toggleable__label {cursor: pointer;display: block;width: 100%;margin-bottom: 0;padding: 0.3em;box-sizing: border-box;text-align: center;}#sk-container-id-8 label.sk-toggleable__label-arrow:before {content: \"▸\";float: left;margin-right: 0.25em;color: #696969;}#sk-container-id-8 label.sk-toggleable__label-arrow:hover:before {color: black;}#sk-container-id-8 div.sk-estimator:hover label.sk-toggleable__label-arrow:before {color: black;}#sk-container-id-8 div.sk-toggleable__content {max-height: 0;max-width: 0;overflow: hidden;text-align: left;background-color: #f0f8ff;}#sk-container-id-8 div.sk-toggleable__content pre {margin: 0.2em;color: black;border-radius: 0.25em;background-color: #f0f8ff;}#sk-container-id-8 input.sk-toggleable__control:checked~div.sk-toggleable__content {max-height: 200px;max-width: 100%;overflow: auto;}#sk-container-id-8 input.sk-toggleable__control:checked~label.sk-toggleable__label-arrow:before {content: \"▾\";}#sk-container-id-8 div.sk-estimator input.sk-toggleable__control:checked~label.sk-toggleable__label {background-color: #d4ebff;}#sk-container-id-8 div.sk-label input.sk-toggleable__control:checked~label.sk-toggleable__label {background-color: #d4ebff;}#sk-container-id-8 input.sk-hidden--visually {border: 0;clip: rect(1px 1px 1px 1px);clip: rect(1px, 1px, 1px, 1px);height: 1px;margin: -1px;overflow: hidden;padding: 0;position: absolute;width: 1px;}#sk-container-id-8 div.sk-estimator {font-family: monospace;background-color: #f0f8ff;border: 1px dotted black;border-radius: 0.25em;box-sizing: border-box;margin-bottom: 0.5em;}#sk-container-id-8 div.sk-estimator:hover {background-color: #d4ebff;}#sk-container-id-8 div.sk-parallel-item::after {content: \"\";width: 100%;border-bottom: 1px solid gray;flex-grow: 1;}#sk-container-id-8 div.sk-label:hover label.sk-toggleable__label {background-color: #d4ebff;}#sk-container-id-8 div.sk-serial::before {content: \"\";position: absolute;border-left: 1px solid gray;box-sizing: border-box;top: 0;bottom: 0;left: 50%;z-index: 0;}#sk-container-id-8 div.sk-serial {display: flex;flex-direction: column;align-items: center;background-color: white;padding-right: 0.2em;padding-left: 0.2em;position: relative;}#sk-container-id-8 div.sk-item {position: relative;z-index: 1;}#sk-container-id-8 div.sk-parallel {display: flex;align-items: stretch;justify-content: center;background-color: white;position: relative;}#sk-container-id-8 div.sk-item::before, #sk-container-id-8 div.sk-parallel-item::before {content: \"\";position: absolute;border-left: 1px solid gray;box-sizing: border-box;top: 0;bottom: 0;left: 50%;z-index: -1;}#sk-container-id-8 div.sk-parallel-item {display: flex;flex-direction: column;z-index: 1;position: relative;background-color: white;}#sk-container-id-8 div.sk-parallel-item:first-child::after {align-self: flex-end;width: 50%;}#sk-container-id-8 div.sk-parallel-item:last-child::after {align-self: flex-start;width: 50%;}#sk-container-id-8 div.sk-parallel-item:only-child::after {width: 0;}#sk-container-id-8 div.sk-dashed-wrapped {border: 1px dashed gray;margin: 0 0.4em 0.5em 0.4em;box-sizing: border-box;padding-bottom: 0.4em;background-color: white;}#sk-container-id-8 div.sk-label label {font-family: monospace;font-weight: bold;display: inline-block;line-height: 1.2em;}#sk-container-id-8 div.sk-label-container {text-align: center;}#sk-container-id-8 div.sk-container {/* jupyter's `normalize.less` sets `[hidden] { display: none; }` but bootstrap.min.css set `[hidden] { display: none !important; }` so we also need the `!important` here to be able to override the default hidden behavior on the sphinx rendered scikit-learn.org. See: https://github.com/scikit-learn/scikit-learn/issues/21755 */display: inline-block !important;position: relative;}#sk-container-id-8 div.sk-text-repr-fallback {display: none;}</style><div id=\"sk-container-id-8\" class=\"sk-top-container\"><div class=\"sk-text-repr-fallback\"><pre>LinearRegression()</pre><b>In a Jupyter environment, please rerun this cell to show the HTML representation or trust the notebook. <br />On GitHub, the HTML representation is unable to render, please try loading this page with nbviewer.org.</b></div><div class=\"sk-container\" hidden><div class=\"sk-item\"><div class=\"sk-estimator sk-toggleable\"><input class=\"sk-toggleable__control sk-hidden--visually\" id=\"sk-estimator-id-8\" type=\"checkbox\" checked><label for=\"sk-estimator-id-8\" class=\"sk-toggleable__label sk-toggleable__label-arrow\">LinearRegression</label><div class=\"sk-toggleable__content\"><pre>LinearRegression()</pre></div></div></div></div></div>"
      ],
      "text/plain": [
       "LinearRegression()"
      ]
     },
     "execution_count": 230,
     "metadata": {},
     "output_type": "execute_result"
    }
   ],
   "source": [
    "regression.fit(X_train, y_train)"
   ]
  },
  {
   "cell_type": "code",
   "execution_count": 232,
   "id": "866c7c8c-f19b-455f-a816-02a3ca7383f3",
   "metadata": {
    "tags": []
   },
   "outputs": [],
   "source": [
    "# Predict the values of y using X for training set\n",
    "y_train_predicted = regression.predict(X_train)"
   ]
  },
  {
   "cell_type": "code",
   "execution_count": 242,
   "id": "741864ee-17da-46f1-87b6-dcac09ae3ec5",
   "metadata": {
    "tags": []
   },
   "outputs": [
    {
     "data": {
      "image/png": "[encoded data removed]",
      "text/plain": [
       "<Figure size 640x480 with 1 Axes>"
      ]
     },
     "metadata": {},
     "output_type": "display_data"
    }
   ],
   "source": [
    "# Create a plot that shows the regression line from the model on the training set.\n",
    "plot_train = plt\n",
    "plot_train.scatter(X_train, y_train, color='gray', s=15)\n",
    "plot_train.plot(X_train, y_train_predicted, color='blue', linewidth=3)\n",
    "plot_train.title('Average Game Time by Attendance (Training Set)')\n",
    "plot_train.xlabel('Average Attendance per Game')\n",
    "plot_train.ylabel('Average Time of Game in Minutes')\n",
    "plot_train.show()"
   ]
  },
  {
   "cell_type": "code",
   "execution_count": 256,
   "id": "ca6680b4-9382-4449-a93e-c046c280bfc4",
   "metadata": {
    "tags": []
   },
   "outputs": [],
   "source": [
    "# Predict the values of y using X for test set\n",
    "y_test_predicted = regression.predict(X_test)"
   ]
  },
  {
   "cell_type": "code",
   "execution_count": 254,
   "id": "7a9b220e-7a52-49e4-a334-8c180fbbd621",
   "metadata": {
    "tags": []
   },
   "outputs": [
    {
     "data": {
      "image/png": "[encoded data removed]",
      "text/plain": [
       "<Figure size 640x480 with 1 Axes>"
      ]
     },
     "metadata": {},
     "output_type": "display_data"
    }
   ],
   "source": [
    "# Create a plot that shows the regression line from the model on the test set.\n",
    "\n",
    "plot_test = plt\n",
    "plot_test.scatter(X_test, y_test, color='gray', s = 15)\n",
    "plot_test.plot(X_test, y_test_predicted, color='blue', linewidth =3)\n",
    "plot_test.title('Average Game Time by Attendance (Test Set)')\n",
    "plot_test.xlabel('Average Attendance per Game')\n",
    "plot_test.ylabel('Average Time of Game in Minutes')\n",
    "plot_test.show()"
   ]
  },
  {
   "cell_type": "markdown",
   "id": "8b89e49a-4538-472d-bd58-2ad398bdc9a5",
   "metadata": {},
   "source": [
    "### Summary Statistics for Game Time/Attendance"
   ]
  },
  {
   "cell_type": "code",
   "execution_count": 258,
   "id": "0df677eb-0508-4d4d-8916-c2f85c461d60",
   "metadata": {
    "tags": []
   },
   "outputs": [],
   "source": [
    "# Create objects that contain the model summary statistics.\n",
    "rmse = mean_squared_error(y_test, y_test_predicted)\n",
    "r2 = r2_score(y_test, y_test_predicted)"
   ]
  },
  {
   "cell_type": "code",
   "execution_count": 260,
   "id": "4b6a1dfc-1ad3-4422-92a2-18464e0ec789",
   "metadata": {
    "tags": []
   },
   "outputs": [
    {
     "name": "stdout",
     "output_type": "stream",
     "text": [
      "Slope: [[-9.1652475e-05]]\n",
      "Mean squared error:  159.36996465812766\n",
      "R2 score:  -0.04631481326910669\n"
     ]
    }
   ],
   "source": [
    "# Print the model summary statistics. \n",
    "print('Slope:' ,regression.coef_)\n",
    "print('Mean squared error: ', rmse)\n",
    "print('R2 score: ', r2)"
   ]
  },
  {
   "cell_type": "markdown",
   "id": "6b54c8d0-e62f-4453-b20a-1d90f933d5fc",
   "metadata": {},
   "source": [
    "### Compare Actual and Predicted Values of Game Time"
   ]
  },
  {
   "cell_type": "code",
   "execution_count": 263,
   "id": "35448391-8d97-4d3a-acc0-23ee8320506b",
   "metadata": {
    "tags": []
   },
   "outputs": [
    {
     "name": "stdout",
     "output_type": "stream",
     "text": [
      "    Actual   Predicted\n",
      "0      193  179.550479\n",
      "1      182  181.231935\n",
      "2      185  181.150273\n",
      "3      193  181.512300\n",
      "4      175  180.250337\n",
      "..     ...         ...\n",
      "76     190  180.551782\n",
      "77     183  180.954870\n",
      "78     176  180.023131\n",
      "79     194  179.543880\n",
      "80     164  181.988985\n",
      "\n",
      "[81 rows x 2 columns]\n"
     ]
    }
   ],
   "source": [
    "# Ensure y_test and y_test_predicted are 1-dimensional arrays\n",
    "y_test_reshaped = y_test.ravel()  # Flatten the array if necessary\n",
    "y_test_predicted_reshaped = y_test_predicted.ravel()\n",
    "\n",
    "# Create the comparison table\n",
    "comparison_table = pd.DataFrame({\n",
    "    'Actual': y_test_reshaped,\n",
    "    'Predicted': y_test_predicted_reshaped\n",
    "})\n",
    "\n",
    "# Display the table\n",
    "print(comparison_table)"
   ]
  },
  {
   "cell_type": "markdown",
   "id": "d15c48bf-089e-48a0-805f-0d436017b138",
   "metadata": {},
   "source": [
    "### Analysis of Game Time and Attendance"
   ]
  },
  {
   "cell_type": "markdown",
   "id": "3a88e6f3-ff37-4de3-a3e1-70655ff7c17c",
   "metadata": {},
   "source": [
    "The regression analysis shows a line that does not fit the data at all. It is almost completely flat. This would suggest that there is not much of a connection between how long a game takes and how many people attend. However, there may be bias in this analysis because attendance has been decreasing for the last 10 years in general anyways. A better analysis would calculate how that rate of change has changed itself over time and if the rate of decrease in attendance has steadied at all. The actual and predicte values do not line up well which shows that this model is a poor fit for the data. "
   ]
  },
  {
   "cell_type": "code",
   "execution_count": null,
   "id": "6efbcb3a-638e-4902-bd83-704f22f52eec",
   "metadata": {},
   "outputs": [],
   "source": []
  }
 ],
 "metadata": {
  "kernelspec": {
   "display_name": "Python 3 (ipykernel)",
   "language": "python",
   "name": "python3"
  },
  "language_info": {
   "codemirror_mode": {
    "name": "ipython",
    "version": 3
   },
   "file_extension": ".py",
   "mimetype": "text/x-python",
   "name": "python",
   "nbconvert_exporter": "python",
   "pygments_lexer": "ipython3",
   "version": "3.11.7"
  }
 },
 "nbformat": 4,
 "nbformat_minor": 5
}
